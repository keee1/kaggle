{
  "nbformat": 4,
  "nbformat_minor": 0,
  "metadata": {
    "colab": {
      "provenance": [],
      "mount_file_id": "1fPcGAyvLFxy9d5ba3ptJCPikhSy7MeHk",
      "authorship_tag": "ABX9TyPncJLI20pRTSiS6s9q2RHw",
      "include_colab_link": true
    },
    "kernelspec": {
      "name": "python3",
      "display_name": "Python 3"
    },
    "language_info": {
      "name": "python"
    }
  },
  "cells": [
    {
      "cell_type": "markdown",
      "metadata": {
        "id": "view-in-github",
        "colab_type": "text"
      },
      "source": [
        "<a href=\"https://colab.research.google.com/github/keee1/kaggle/blob/main/Titanic/EDA.ipynb\" target=\"_parent\"><img src=\"https://colab.research.google.com/assets/colab-badge.svg\" alt=\"Open In Colab\"/></a>"
      ]
    },
    {
      "cell_type": "markdown",
      "source": [
        "参考にしたサイト：\n",
        "https://qiita.com/5sigma_AAA/items/0c23907da9330681147b\n",
        "\n",
        "LightGBM\n",
        "https://puntadata.com/lightgbm_sample_explain/"
      ],
      "metadata": {
        "id": "wYNbx443r3PI"
      }
    },
    {
      "cell_type": "code",
      "execution_count": null,
      "metadata": {
        "id": "v01d-uKHNnqU"
      },
      "outputs": [],
      "source": [
        "import pandas as pd\n",
        "import matplotlib.pyplot as plt\n",
        "import numpy as np\n",
        "import seaborn as sns\n",
        "%matplotlib inline\n",
        "\n",
        "df = pd.read_csv('/content/drive/MyDrive/Kaggle/Titanic/train.csv')\n",
        "print(df.info())\n",
        "df.head()"
      ]
    },
    {
      "cell_type": "code",
      "source": [
        "df.isnull().sum()"
      ],
      "metadata": {
        "id": "e5A4QbshgZFD"
      },
      "execution_count": null,
      "outputs": []
    },
    {
      "cell_type": "code",
      "source": [
        "df.dtypes"
      ],
      "metadata": {
        "id": "uuGKtOGNg37D"
      },
      "execution_count": null,
      "outputs": []
    },
    {
      "cell_type": "code",
      "source": [
        "df.describe()"
      ],
      "metadata": {
        "id": "tnyfoW2Fh23m"
      },
      "execution_count": null,
      "outputs": []
    },
    {
      "cell_type": "code",
      "source": [
        "df[\"Age\"].hist(figsize = (4,4))"
      ],
      "metadata": {
        "id": "MTHs7ZEih53J"
      },
      "execution_count": null,
      "outputs": []
    },
    {
      "cell_type": "code",
      "source": [
        "df_org = df\n",
        "\n",
        "from sklearn.impute import SimpleImputer\n",
        "\n",
        "df[\"Age\"] = SimpleImputer().fit_transform(df.iloc[:,[df.columns.get_loc(\"Age\")]])\n",
        "df.isnull().sum()\n",
        "df[\"Age\"].hist(figsize = (4,4))"
      ],
      "metadata": {
        "id": "LXfvB8xhlkul"
      },
      "execution_count": null,
      "outputs": []
    },
    {
      "cell_type": "code",
      "source": [
        "df[\"Embarked\"].hist(figsize = (4,4))"
      ],
      "metadata": {
        "id": "34HiCpqhpnn9"
      },
      "execution_count": null,
      "outputs": []
    },
    {
      "cell_type": "code",
      "source": [
        "df['Embarked'] = df['Embarked'].fillna('S')"
      ],
      "metadata": {
        "id": "RahiRPUkP3_M"
      },
      "execution_count": 29,
      "outputs": []
    },
    {
      "cell_type": "code",
      "source": [
        "df[\"Fare\"] = SimpleImputer().fit_transform(df.iloc[:,[df.columns.get_loc(\"Fare\")]])\n",
        "df.isnull().sum()\n",
        "#df[\"Fare\"].hist(figsize = (4,4))"
      ],
      "metadata": {
        "id": "gO4t80gJthIz"
      },
      "execution_count": null,
      "outputs": []
    },
    {
      "cell_type": "code",
      "source": [
        "df[\"Cabin\"].tolist()"
      ],
      "metadata": {
        "id": "Z_r423hnuhpB"
      },
      "execution_count": null,
      "outputs": []
    },
    {
      "cell_type": "code",
      "source": [
        "df = df.drop(['Cabin', 'Name', 'PassengerId', 'Ticket'], axis=1)"
      ],
      "metadata": {
        "id": "v71SLOf2um0X"
      },
      "execution_count": 32,
      "outputs": []
    },
    {
      "cell_type": "code",
      "source": [
        "print(df.isnull().sum())\n",
        "print(df.dtypes)"
      ],
      "metadata": {
        "id": "eMP73ZmNLWG6"
      },
      "execution_count": null,
      "outputs": []
    },
    {
      "cell_type": "code",
      "source": [
        "df['Sex'] = df['Sex'].apply(lambda x: 1 if x == 'male' else 0)"
      ],
      "metadata": {
        "id": "D4qzIzVEQr70"
      },
      "execution_count": 34,
      "outputs": []
    },
    {
      "cell_type": "code",
      "source": [
        "df['Embarked'] = df['Embarked'].map( {'S': 0 , 'C':1 , 'Q':2}).astype(int)"
      ],
      "metadata": {
        "id": "H73yqHNDQyGj"
      },
      "execution_count": 35,
      "outputs": []
    },
    {
      "cell_type": "code",
      "source": [
        "print(df.isnull().sum())\n",
        "print(df.dtypes)"
      ],
      "metadata": {
        "id": "JH7nHDtjRva6"
      },
      "execution_count": null,
      "outputs": []
    },
    {
      "cell_type": "code",
      "source": [
        "plt.figure(figsize = (15,15))\n",
        "sns.heatmap(df.corr(),annot = True)"
      ],
      "metadata": {
        "id": "XDCs9v_3VRaG"
      },
      "execution_count": null,
      "outputs": []
    },
    {
      "cell_type": "code",
      "source": [
        "from sklearn.model_selection import  train_test_split\n",
        "\n",
        "X = df.drop('Survived', axis=1)\n",
        "Y = df.Survived"
      ],
      "metadata": {
        "id": "nXHWadWQUdQt"
      },
      "execution_count": 37,
      "outputs": []
    },
    {
      "cell_type": "code",
      "source": [
        "(train_X , test_X , train_Y , test_Y) = train_test_split(X, Y , test_size = 0.3 , random_state = 0)"
      ],
      "metadata": {
        "id": "bFJUAzRiUru9"
      },
      "execution_count": 38,
      "outputs": []
    },
    {
      "cell_type": "code",
      "source": [
        "import lightgbm as lgb\n",
        "\n",
        "train_data = lgb.Dataset(train_X, label=train_Y, free_raw_data=False)\n",
        "train_data.save_binary('/content/drive/MyDrive/Kaggle/Titanic/train.bin')\n",
        "valid_data = lgb.Dataset(test_X, label=test_Y, free_raw_data=False)\n",
        "valid_data.save_binary('/content/drive/MyDrive/Kaggle/Titanic/valid.bin')"
      ],
      "metadata": {
        "colab": {
          "base_uri": "https://localhost:8080/"
        },
        "id": "ujlw3jmKgjZB",
        "outputId": "97b2d323-2aad-47c2-eae8-21bb11bc5652"
      },
      "execution_count": 51,
      "outputs": [
        {
          "output_type": "stream",
          "name": "stdout",
          "text": [
            "[LightGBM] [Warning] File /content/drive/MyDrive/Kaggle/Titanic/train.bin exists, cannot save binary to it\n",
            "[LightGBM] [Warning] File /content/drive/MyDrive/Kaggle/Titanic/valid.bin exists, cannot save binary to it\n"
          ]
        },
        {
          "output_type": "execute_result",
          "data": {
            "text/plain": [
              "<lightgbm.basic.Dataset at 0x78d64b34b610>"
            ]
          },
          "metadata": {},
          "execution_count": 51
        }
      ]
    },
    {
      "cell_type": "code",
      "source": [
        "param = {   'random_state': 0 ,\n",
        "            'objective': 'binary',\n",
        "            'metric': 'binary_error',\n",
        "}\n",
        "param['metric'] = ['auc', 'binary_logloss']\n",
        "\n",
        "bst = lgb.LGBMClassifier(**param)\n",
        "bst.fit(train_X, train_Y)"
      ],
      "metadata": {
        "id": "FBiemQJMuu3a"
      },
      "execution_count": null,
      "outputs": []
    },
    {
      "cell_type": "code",
      "source": [
        "num_round = 50\n",
        "bst = lgb.train(param, train_data, num_round, valid_sets=[valid_data])\n",
        "bst.save_model('/content/drive/MyDrive/Kaggle/Titanic/model.txt', num_iteration=bst.best_iteration)"
      ],
      "metadata": {
        "id": "Y0mEnRW9u55_"
      },
      "execution_count": null,
      "outputs": []
    },
    {
      "cell_type": "code",
      "source": [
        "from sklearn.metrics import (roc_curve , auc ,accuracy_score, precision_score)\n",
        "pred = bst.predict_proba(test_X)\n",
        "print(pred[:5])\n",
        "pred = bst.predict(test_X)\n",
        "print(pred[:5])\n",
        "fpr, tpr , thresholds = roc_curve(test_Y,pred,pos_label = 1)\n",
        "auc(fpr,tpr)"
      ],
      "metadata": {
        "id": "ZIpOh1aaxT35"
      },
      "execution_count": null,
      "outputs": []
    },
    {
      "cell_type": "code",
      "source": [
        "testDf = pd.read_csv('/content/drive/MyDrive/Kaggle/Titanic/test.csv')\n",
        "testDf.head()\n",
        "print(testDf.isnull().sum())\n",
        "testDf_org = testDf"
      ],
      "metadata": {
        "id": "Z-_Bg0RlkK_X"
      },
      "execution_count": null,
      "outputs": []
    },
    {
      "cell_type": "code",
      "source": [
        "from sklearn.impute import SimpleImputer\n",
        "\n",
        "passsengerid = testDf['PassengerId']\n",
        "\n",
        "testDf[\"Age\"] = SimpleImputer().fit_transform(testDf.iloc[:,[testDf.columns.get_loc(\"Age\")]])\n",
        "testDf[\"Fare\"] = SimpleImputer().fit_transform(testDf.iloc[:,[testDf.columns.get_loc(\"Fare\")]])\n",
        "testDf['Embarked'] = testDf['Embarked'].fillna('S')\n",
        "\n",
        "testDf['Sex'] = testDf['Sex'].apply(lambda x: 1 if x == 'male' else 0)\n",
        "testDf['Embarked'] = testDf['Embarked'].map( {'S': 0 , 'C':1 , 'Q':2}).astype(int)\n",
        "\n",
        "testDf= testDf.drop(['Cabin','Name','Ticket','PassengerId'],axis =1)\n",
        "pred = bst.predict(testDf)\n",
        "\n",
        "submission = pd.DataFrame({'PassengerId':passsengerid, 'Survived':pred})\n",
        "submission.to_csv('/content/drive/MyDrive/Kaggle/Titanic/submission.csv' , index = False)"
      ],
      "metadata": {
        "id": "PB7eNamug5Ed"
      },
      "execution_count": 101,
      "outputs": []
    },
    {
      "cell_type": "code",
      "source": [],
      "metadata": {
        "id": "C24JTL4ozp8j"
      },
      "execution_count": null,
      "outputs": []
    }
  ]
}