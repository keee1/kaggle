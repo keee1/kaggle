{
  "nbformat": 4,
  "nbformat_minor": 0,
  "metadata": {
    "colab": {
      "provenance": [],
      "mount_file_id": "1fPcGAyvLFxy9d5ba3ptJCPikhSy7MeHk",
      "authorship_tag": "ABX9TyOFh8nkL9wD9s48+kkA4K44",
      "include_colab_link": true
    },
    "kernelspec": {
      "name": "python3",
      "display_name": "Python 3"
    },
    "language_info": {
      "name": "python"
    }
  },
  "cells": [
    {
      "cell_type": "markdown",
      "metadata": {
        "id": "view-in-github",
        "colab_type": "text"
      },
      "source": [
        "<a href=\"https://colab.research.google.com/github/keee1/kaggle/blob/main/Titanic/EDA.ipynb\" target=\"_parent\"><img src=\"https://colab.research.google.com/assets/colab-badge.svg\" alt=\"Open In Colab\"/></a>"
      ]
    },
    {
      "cell_type": "markdown",
      "source": [
        "参考にしたサイト：\n",
        "https://qiita.com/5sigma_AAA/items/0c23907da9330681147b"
      ],
      "metadata": {
        "id": "wYNbx443r3PI"
      }
    },
    {
      "cell_type": "code",
      "execution_count": null,
      "metadata": {
        "id": "v01d-uKHNnqU"
      },
      "outputs": [],
      "source": [
        "import pandas as pd\n",
        "import matplotlib.pyplot as plt\n",
        "import numpy as np\n",
        "import seaborn as sns\n",
        "%matplotlib inline\n",
        "\n",
        "df = pd.read_csv('/content/drive/MyDrive/Kaggle/Titanic/train.csv')\n",
        "print(df.info())\n",
        "df.head()"
      ]
    },
    {
      "cell_type": "code",
      "source": [
        "df.isnull().sum()"
      ],
      "metadata": {
        "id": "e5A4QbshgZFD"
      },
      "execution_count": null,
      "outputs": []
    },
    {
      "cell_type": "code",
      "source": [
        "df.dtypes"
      ],
      "metadata": {
        "id": "uuGKtOGNg37D"
      },
      "execution_count": null,
      "outputs": []
    },
    {
      "cell_type": "code",
      "source": [
        "df.describe()"
      ],
      "metadata": {
        "id": "tnyfoW2Fh23m"
      },
      "execution_count": null,
      "outputs": []
    },
    {
      "cell_type": "code",
      "source": [
        "df[\"Age\"].hist(figsize = (4,4))"
      ],
      "metadata": {
        "id": "MTHs7ZEih53J"
      },
      "execution_count": null,
      "outputs": []
    },
    {
      "cell_type": "code",
      "source": [
        "df_org = df\n",
        "\n",
        "from sklearn.impute import SimpleImputer\n",
        "\n",
        "df[\"Age\"] = SimpleImputer().fit_transform(df.iloc[:,[df.columns.get_loc(\"Age\")]])\n",
        "df.isnull().sum()\n",
        "df[\"Age\"].hist(figsize = (4,4))"
      ],
      "metadata": {
        "id": "LXfvB8xhlkul"
      },
      "execution_count": null,
      "outputs": []
    },
    {
      "cell_type": "code",
      "source": [
        "df[\"Embarked\"].hist(figsize = (4,4))"
      ],
      "metadata": {
        "id": "34HiCpqhpnn9"
      },
      "execution_count": null,
      "outputs": []
    },
    {
      "cell_type": "code",
      "source": [
        "df['Embarked'] = df['Embarked'].fillna('S')"
      ],
      "metadata": {
        "id": "RahiRPUkP3_M"
      },
      "execution_count": 8,
      "outputs": []
    },
    {
      "cell_type": "code",
      "source": [
        "df[\"Fare\"] = SimpleImputer().fit_transform(df.iloc[:,[df.columns.get_loc(\"Fare\")]])\n",
        "df.isnull().sum()\n",
        "#df[\"Fare\"].hist(figsize = (4,4))"
      ],
      "metadata": {
        "id": "gO4t80gJthIz"
      },
      "execution_count": null,
      "outputs": []
    },
    {
      "cell_type": "code",
      "source": [
        "df[\"Cabin\"].tolist()"
      ],
      "metadata": {
        "id": "Z_r423hnuhpB"
      },
      "execution_count": null,
      "outputs": []
    },
    {
      "cell_type": "code",
      "source": [
        "df = df.drop(['Cabin', 'Name', 'PassengerId', 'Ticket'], axis=1)"
      ],
      "metadata": {
        "id": "v71SLOf2um0X"
      },
      "execution_count": 11,
      "outputs": []
    },
    {
      "cell_type": "code",
      "source": [
        "print(df.isnull().sum())\n",
        "print(df.dtypes)"
      ],
      "metadata": {
        "id": "eMP73ZmNLWG6"
      },
      "execution_count": null,
      "outputs": []
    },
    {
      "cell_type": "code",
      "source": [
        "df['Sex'] = df['Sex'].apply(lambda x: 1 if x == 'male' else 0)"
      ],
      "metadata": {
        "id": "D4qzIzVEQr70"
      },
      "execution_count": 13,
      "outputs": []
    },
    {
      "cell_type": "code",
      "source": [
        "df['Embarked'] = df['Embarked'].map( {'S': 0 , 'C':1 , 'Q':2}).astype(int)"
      ],
      "metadata": {
        "id": "H73yqHNDQyGj"
      },
      "execution_count": 14,
      "outputs": []
    },
    {
      "cell_type": "code",
      "source": [
        "print(df.isnull().sum())\n",
        "print(df.dtypes)"
      ],
      "metadata": {
        "id": "JH7nHDtjRva6"
      },
      "execution_count": null,
      "outputs": []
    },
    {
      "cell_type": "code",
      "source": [
        "plt.figure(figsize = (15,15))\n",
        "sns.heatmap(df.corr(),annot = True)"
      ],
      "metadata": {
        "id": "XDCs9v_3VRaG"
      },
      "execution_count": null,
      "outputs": []
    },
    {
      "cell_type": "code",
      "source": [
        "from sklearn.model_selection import  train_test_split\n",
        "\n",
        "X = df.drop('Survived', axis=1)\n",
        "Y = df.Survived"
      ],
      "metadata": {
        "id": "nXHWadWQUdQt"
      },
      "execution_count": 17,
      "outputs": []
    },
    {
      "cell_type": "code",
      "source": [
        "(train_X , test_X , train_Y , test_Y) = train_test_split(X, Y , test_size = 0.3 , random_state = 0)"
      ],
      "metadata": {
        "id": "bFJUAzRiUru9"
      },
      "execution_count": 18,
      "outputs": []
    },
    {
      "cell_type": "code",
      "source": [
        "from sklearn.ensemble import RandomForestClassifier\n",
        "from sklearn.metrics import (roc_curve , auc ,accuracy_score, precision_score)\n",
        "\n",
        "clf = RandomForestClassifier(n_estimators = 12,max_depth=10,random_state = 0)\n",
        "clf = clf.fit(train_X , train_Y)\n",
        "pred = clf.predict(test_X)\n",
        "fpr, tpr , thresholds = roc_curve(test_Y,pred,pos_label = 1)\n",
        "auc(fpr,tpr)\n",
        "print(accuracy_score(pred,test_Y))\n",
        "print(precision_score(pred, test_Y))"
      ],
      "metadata": {
        "id": "ujlw3jmKgjZB"
      },
      "execution_count": null,
      "outputs": []
    },
    {
      "cell_type": "code",
      "source": [
        "testDf = pd.read_csv('/content/drive/MyDrive/Kaggle/Titanic/test.csv')\n",
        "testDf.head()\n",
        "print(testDf.isnull().sum())\n",
        "testDf_org = testDf"
      ],
      "metadata": {
        "id": "Z-_Bg0RlkK_X"
      },
      "execution_count": null,
      "outputs": []
    },
    {
      "cell_type": "code",
      "source": [
        "from sklearn.impute import SimpleImputer\n",
        "\n",
        "passsengerid = testDf['PassengerId']\n",
        "\n",
        "testDf[\"Age\"] = SimpleImputer().fit_transform(testDf.iloc[:,[testDf.columns.get_loc(\"Age\")]])\n",
        "testDf[\"Fare\"] = SimpleImputer().fit_transform(testDf.iloc[:,[testDf.columns.get_loc(\"Fare\")]])\n",
        "testDf['Embarked'] = testDf['Embarked'].fillna('S')\n",
        "\n",
        "testDf['Sex'] = testDf['Sex'].apply(lambda x: 1 if x == 'male' else 0)\n",
        "testDf['Embarked'] = testDf['Embarked'].map( {'S': 0 , 'C':1 , 'Q':2}).astype(int)\n",
        "\n",
        "testDf= testDf.drop(['Cabin','Name','Ticket','PassengerId'],axis =1)\n",
        "pred = clf.predict(testDf)\n",
        "\n",
        "submission = pd.DataFrame({'PassengerId':passsengerid, 'Survived':pred})\n",
        "submission.to_csv('/content/drive/MyDrive/Kaggle/Titanic/submission.csv' , index = False)"
      ],
      "metadata": {
        "id": "PB7eNamug5Ed"
      },
      "execution_count": 21,
      "outputs": []
    }
  ]
}